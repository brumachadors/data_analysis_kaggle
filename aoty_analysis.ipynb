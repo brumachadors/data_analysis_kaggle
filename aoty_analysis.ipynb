{
 "cells": [
  {
   "cell_type": "markdown",
   "metadata": {},
   "source": [
    "## Importando bibliotecas"
   ]
  },
  {
   "cell_type": "code",
   "execution_count": 22,
   "metadata": {},
   "outputs": [],
   "source": [
    "import os\n",
    "import zipfile\n",
    "import pandas as pd\n",
    "import kaggle\n",
    "import duckdb"
   ]
  },
  {
   "cell_type": "markdown",
   "metadata": {},
   "source": [
    "## Download do dataset\n",
    "\n",
    "* Download do arquivo em zip\n",
    "* Lendo arquivos csv sem extração\n",
    "* Criando dataframe a partir do csv\n",
    "* Configuração da coluna de data para formato datetime"
   ]
  },
  {
   "cell_type": "code",
   "execution_count": 29,
   "metadata": {},
   "outputs": [
    {
     "name": "stderr",
     "output_type": "stream",
     "text": [
      "\n",
      "  0%|          | 0.00/113M [00:00<?, ?B/s]\n",
      "  1%|          | 1.00M/113M [00:00<01:21, 1.45MB/s]\n",
      "  2%|▏         | 2.00M/113M [00:00<00:40, 2.85MB/s]\n",
      "  4%|▎         | 4.00M/113M [00:00<00:19, 6.00MB/s]\n",
      "  6%|▌         | 7.00M/113M [00:01<00:10, 11.1MB/s]\n",
      " 10%|▉         | 11.0M/113M [00:01<00:06, 17.2MB/s]\n",
      " 12%|█▏        | 14.0M/113M [00:01<00:05, 20.1MB/s]\n",
      " 16%|█▌        | 18.0M/113M [00:01<00:04, 24.8MB/s]\n",
      " 19%|█▉        | 22.0M/113M [00:01<00:03, 27.7MB/s]\n",
      " 23%|██▎       | 26.0M/113M [00:01<00:03, 29.4MB/s]\n",
      " 27%|██▋       | 30.0M/113M [00:01<00:02, 31.1MB/s]\n",
      " 30%|███       | 34.0M/113M [00:01<00:02, 31.7MB/s]\n",
      " 34%|███▎      | 38.0M/113M [00:02<00:02, 32.7MB/s]\n",
      " 37%|███▋      | 42.0M/113M [00:02<00:02, 32.6MB/s]\n",
      " 41%|████      | 46.0M/113M [00:02<00:02, 32.8MB/s]\n",
      " 44%|████▍     | 50.0M/113M [00:02<00:01, 33.5MB/s]\n",
      " 48%|████▊     | 54.0M/113M [00:02<00:01, 33.4MB/s]\n",
      " 51%|█████▏    | 58.0M/113M [00:02<00:01, 33.7MB/s]\n",
      " 55%|█████▍    | 62.0M/113M [00:02<00:01, 32.5MB/s]\n",
      " 58%|█████▊    | 66.0M/113M [00:02<00:01, 32.8MB/s]\n",
      " 62%|██████▏   | 70.0M/113M [00:03<00:01, 32.7MB/s]\n",
      " 66%|██████▌   | 74.0M/113M [00:03<00:01, 33.1MB/s]\n",
      " 69%|██████▉   | 78.0M/113M [00:03<00:01, 33.0MB/s]\n",
      " 73%|███████▎  | 82.0M/113M [00:03<00:00, 33.6MB/s]\n",
      " 76%|███████▌  | 86.0M/113M [00:03<00:00, 34.1MB/s]\n",
      " 80%|███████▉  | 90.0M/113M [00:03<00:00, 34.1MB/s]\n",
      " 83%|████████▎ | 94.0M/113M [00:03<00:00, 32.9MB/s]\n",
      " 87%|████████▋ | 98.0M/113M [00:03<00:00, 33.6MB/s]\n",
      " 90%|█████████ | 102M/113M [00:04<00:00, 28.6MB/s] \n",
      " 96%|█████████▌| 108M/113M [00:04<00:00, 35.3MB/s]\n",
      " 99%|█████████▉| 112M/113M [00:04<00:00, 35.2MB/s]\n",
      "100%|██████████| 113M/113M [00:04<00:00, 27.1MB/s]\n"
     ]
    },
    {
     "name": "stdout",
     "output_type": "stream",
     "text": [
      "Dataset URL: https://www.kaggle.com/datasets/asaniczka/top-spotify-songs-in-73-countries-daily-updated\n",
      "License(s): ODC Attribution License (ODC-By)\n",
      "Downloading top-spotify-songs-in-73-countries-daily-updated.zip to datasets\n",
      "\n",
      "success: datasets\\top-spotify-songs-in-73-countries-daily-updated.zip\n",
      "File Name                                             Modified             Size\n",
      "universal_top_spotify_songs.csv                2024-11-28 15:10:04    346764771\n",
      "Filename: universal_top_spotify_songs.csv\n"
     ]
    }
   ],
   "source": [
    "dataset_folder = 'datasets'\n",
    "dataset_owner = 'asaniczka'\n",
    "dataset_name = 'top-spotify-songs-in-73-countries-daily-updated'\n",
    "dataset_download_command = f\"{dataset_owner}/{dataset_name}\"\n",
    "dataset_type = '.zip'\n",
    "dataset_path = os.path.join(dataset_folder, dataset_name + dataset_type)\n",
    "\n",
    "if not os.path.exists(dataset_folder):\n",
    "    os.makedirs(dataset_folder)\n",
    "\n",
    "if os.path.exists(dataset_path):\n",
    "    os.remove(dataset_path)\n",
    "\n",
    "!kaggle datasets download -d {dataset_download} -p {dataset_folder}\n",
    "\n",
    "if os.path.exists(dataset_path):\n",
    "    print(f\"success: {dataset_path}\")\n",
    "else:\n",
    "    print(\"error\")\n",
    "\n",
    "with zipfile.ZipFile(dataset_path, 'r') as dataset_ref:\n",
    "    dataset_ref.printdir()\n",
    "\n",
    "    for dataset_name in dataset_ref.namelist():\n",
    "        if dataset_name.endswith('.csv'):\n",
    "            print(f\"Filename: {dataset_name}\")            \n",
    "            with dataset_ref.open(dataset_name) as dataset:\n",
    "                df = pd.read_csv(dataset)\n",
    "\n",
    "df['snapshot_date'] = pd.to_datetime(df['snapshot_date'], errors='coerce')"
   ]
  },
  {
   "cell_type": "code",
   "execution_count": 30,
   "metadata": {},
   "outputs": [
    {
     "data": {
      "text/html": [
       "<div>\n",
       "<style scoped>\n",
       "    .dataframe tbody tr th:only-of-type {\n",
       "        vertical-align: middle;\n",
       "    }\n",
       "\n",
       "    .dataframe tbody tr th {\n",
       "        vertical-align: top;\n",
       "    }\n",
       "\n",
       "    .dataframe thead th {\n",
       "        text-align: right;\n",
       "    }\n",
       "</style>\n",
       "<table border=\"1\" class=\"dataframe\">\n",
       "  <thead>\n",
       "    <tr style=\"text-align: right;\">\n",
       "      <th></th>\n",
       "      <th>spotify_id</th>\n",
       "      <th>name</th>\n",
       "      <th>artists</th>\n",
       "      <th>daily_rank</th>\n",
       "      <th>daily_movement</th>\n",
       "      <th>weekly_movement</th>\n",
       "      <th>country</th>\n",
       "      <th>snapshot_date</th>\n",
       "      <th>popularity</th>\n",
       "      <th>is_explicit</th>\n",
       "      <th>...</th>\n",
       "      <th>key</th>\n",
       "      <th>loudness</th>\n",
       "      <th>mode</th>\n",
       "      <th>speechiness</th>\n",
       "      <th>acousticness</th>\n",
       "      <th>instrumentalness</th>\n",
       "      <th>liveness</th>\n",
       "      <th>valence</th>\n",
       "      <th>tempo</th>\n",
       "      <th>time_signature</th>\n",
       "    </tr>\n",
       "  </thead>\n",
       "  <tbody>\n",
       "    <tr>\n",
       "      <th>0</th>\n",
       "      <td>5vNRhkKd0yEAg8suGBpjeY</td>\n",
       "      <td>APT.</td>\n",
       "      <td>ROSÉ, Bruno Mars</td>\n",
       "      <td>1</td>\n",
       "      <td>0</td>\n",
       "      <td>1</td>\n",
       "      <td>NaN</td>\n",
       "      <td>2024-11-27</td>\n",
       "      <td>98</td>\n",
       "      <td>False</td>\n",
       "      <td>...</td>\n",
       "      <td>0</td>\n",
       "      <td>-4.477</td>\n",
       "      <td>0</td>\n",
       "      <td>0.2600</td>\n",
       "      <td>0.0283</td>\n",
       "      <td>0.0</td>\n",
       "      <td>0.3550</td>\n",
       "      <td>0.939</td>\n",
       "      <td>149.027</td>\n",
       "      <td>4</td>\n",
       "    </tr>\n",
       "    <tr>\n",
       "      <th>1</th>\n",
       "      <td>2plbrEY59IikOBgBGLjaoe</td>\n",
       "      <td>Die With A Smile</td>\n",
       "      <td>Lady Gaga, Bruno Mars</td>\n",
       "      <td>2</td>\n",
       "      <td>0</td>\n",
       "      <td>-1</td>\n",
       "      <td>NaN</td>\n",
       "      <td>2024-11-27</td>\n",
       "      <td>100</td>\n",
       "      <td>False</td>\n",
       "      <td>...</td>\n",
       "      <td>6</td>\n",
       "      <td>-7.777</td>\n",
       "      <td>0</td>\n",
       "      <td>0.0304</td>\n",
       "      <td>0.3080</td>\n",
       "      <td>0.0</td>\n",
       "      <td>0.1220</td>\n",
       "      <td>0.535</td>\n",
       "      <td>157.969</td>\n",
       "      <td>3</td>\n",
       "    </tr>\n",
       "    <tr>\n",
       "      <th>2</th>\n",
       "      <td>2CGNAOSuO1MEFCbBRgUzjd</td>\n",
       "      <td>luther (with sza)</td>\n",
       "      <td>Kendrick Lamar, SZA</td>\n",
       "      <td>3</td>\n",
       "      <td>0</td>\n",
       "      <td>47</td>\n",
       "      <td>NaN</td>\n",
       "      <td>2024-11-27</td>\n",
       "      <td>64</td>\n",
       "      <td>False</td>\n",
       "      <td>...</td>\n",
       "      <td>2</td>\n",
       "      <td>-7.546</td>\n",
       "      <td>1</td>\n",
       "      <td>0.1250</td>\n",
       "      <td>0.2510</td>\n",
       "      <td>0.0</td>\n",
       "      <td>0.2480</td>\n",
       "      <td>0.576</td>\n",
       "      <td>138.008</td>\n",
       "      <td>4</td>\n",
       "    </tr>\n",
       "    <tr>\n",
       "      <th>3</th>\n",
       "      <td>0nj9Bq5sHDiTxSHunhgkFb</td>\n",
       "      <td>squabble up</td>\n",
       "      <td>Kendrick Lamar</td>\n",
       "      <td>4</td>\n",
       "      <td>0</td>\n",
       "      <td>46</td>\n",
       "      <td>NaN</td>\n",
       "      <td>2024-11-27</td>\n",
       "      <td>86</td>\n",
       "      <td>True</td>\n",
       "      <td>...</td>\n",
       "      <td>0</td>\n",
       "      <td>-5.568</td>\n",
       "      <td>1</td>\n",
       "      <td>0.1980</td>\n",
       "      <td>0.0206</td>\n",
       "      <td>0.0</td>\n",
       "      <td>0.0783</td>\n",
       "      <td>0.711</td>\n",
       "      <td>103.921</td>\n",
       "      <td>4</td>\n",
       "    </tr>\n",
       "    <tr>\n",
       "      <th>4</th>\n",
       "      <td>0aB0v4027ukVziUGwVGYpG</td>\n",
       "      <td>tv off (feat. lefty gunplay)</td>\n",
       "      <td>Kendrick Lamar, Lefty Gunplay</td>\n",
       "      <td>5</td>\n",
       "      <td>1</td>\n",
       "      <td>45</td>\n",
       "      <td>NaN</td>\n",
       "      <td>2024-11-27</td>\n",
       "      <td>85</td>\n",
       "      <td>True</td>\n",
       "      <td>...</td>\n",
       "      <td>6</td>\n",
       "      <td>-6.679</td>\n",
       "      <td>0</td>\n",
       "      <td>0.2630</td>\n",
       "      <td>0.0837</td>\n",
       "      <td>0.0</td>\n",
       "      <td>0.4230</td>\n",
       "      <td>0.548</td>\n",
       "      <td>100.036</td>\n",
       "      <td>4</td>\n",
       "    </tr>\n",
       "  </tbody>\n",
       "</table>\n",
       "<p>5 rows × 25 columns</p>\n",
       "</div>"
      ],
      "text/plain": [
       "               spotify_id                          name  \\\n",
       "0  5vNRhkKd0yEAg8suGBpjeY                          APT.   \n",
       "1  2plbrEY59IikOBgBGLjaoe              Die With A Smile   \n",
       "2  2CGNAOSuO1MEFCbBRgUzjd             luther (with sza)   \n",
       "3  0nj9Bq5sHDiTxSHunhgkFb                   squabble up   \n",
       "4  0aB0v4027ukVziUGwVGYpG  tv off (feat. lefty gunplay)   \n",
       "\n",
       "                         artists  daily_rank  daily_movement  weekly_movement  \\\n",
       "0               ROSÉ, Bruno Mars           1               0                1   \n",
       "1          Lady Gaga, Bruno Mars           2               0               -1   \n",
       "2            Kendrick Lamar, SZA           3               0               47   \n",
       "3                 Kendrick Lamar           4               0               46   \n",
       "4  Kendrick Lamar, Lefty Gunplay           5               1               45   \n",
       "\n",
       "  country snapshot_date  popularity  is_explicit  ...  key loudness mode  \\\n",
       "0     NaN    2024-11-27          98        False  ...    0   -4.477    0   \n",
       "1     NaN    2024-11-27         100        False  ...    6   -7.777    0   \n",
       "2     NaN    2024-11-27          64        False  ...    2   -7.546    1   \n",
       "3     NaN    2024-11-27          86         True  ...    0   -5.568    1   \n",
       "4     NaN    2024-11-27          85         True  ...    6   -6.679    0   \n",
       "\n",
       "   speechiness  acousticness  instrumentalness  liveness  valence    tempo  \\\n",
       "0       0.2600        0.0283               0.0    0.3550    0.939  149.027   \n",
       "1       0.0304        0.3080               0.0    0.1220    0.535  157.969   \n",
       "2       0.1250        0.2510               0.0    0.2480    0.576  138.008   \n",
       "3       0.1980        0.0206               0.0    0.0783    0.711  103.921   \n",
       "4       0.2630        0.0837               0.0    0.4230    0.548  100.036   \n",
       "\n",
       "   time_signature  \n",
       "0               4  \n",
       "1               3  \n",
       "2               4  \n",
       "3               4  \n",
       "4               4  \n",
       "\n",
       "[5 rows x 25 columns]"
      ]
     },
     "execution_count": 30,
     "metadata": {},
     "output_type": "execute_result"
    }
   ],
   "source": [
    "df.head()"
   ]
  },
  {
   "cell_type": "code",
   "execution_count": 31,
   "metadata": {},
   "outputs": [
    {
     "name": "stdout",
     "output_type": "stream",
     "text": [
      "Colunas do dataframe:  Index(['spotify_id', 'name', 'artists', 'daily_rank', 'daily_movement',\n",
      "       'weekly_movement', 'country', 'snapshot_date', 'popularity',\n",
      "       'is_explicit', 'duration_ms', 'album_name', 'album_release_date',\n",
      "       'danceability', 'energy', 'key', 'loudness', 'mode', 'speechiness',\n",
      "       'acousticness', 'instrumentalness', 'liveness', 'valence', 'tempo',\n",
      "       'time_signature'],\n",
      "      dtype='object')\n"
     ]
    }
   ],
   "source": [
    "print('Colunas do dataframe: ', df.columns)"
   ]
  },
  {
   "cell_type": "code",
   "execution_count": 33,
   "metadata": {},
   "outputs": [
    {
     "name": "stdout",
     "output_type": "stream",
     "text": [
      "Número de colunas:  25\n",
      "Número de registros:  1468130\n",
      "Última data de atualização:  2024-11-27\n"
     ]
    }
   ],
   "source": [
    "print('Número de colunas: ', df.shape[1])\n",
    "print('Número de registros: ', df.shape[0])\n",
    "print('Última data de atualização: ', df['snapshot_date'].max().date())"
   ]
  },
  {
   "cell_type": "markdown",
   "metadata": {},
   "source": [
    "## Explorando o dataset\n",
    "\n",
    "- Selecionando dados referentes aos álbuns indicados a Álbum do Ano, nos Estados Unidos em 2024;\n",
    "- Criando coluna de artista principal (main_artist);"
   ]
  },
  {
   "cell_type": "code",
   "execution_count": 34,
   "metadata": {},
   "outputs": [],
   "source": [
    "aoty_data = df[(df['album_name'].isin([\"New Blue Sun\", \n",
    "                                      \"COWBOY CARTER\", \n",
    "                                      \"Short n' Sweet\", \n",
    "                                      \"BRAT\", \n",
    "                                      \"Djesse Vol.4\", \n",
    "                                      \"HIT ME HARD AND SOFT\", \n",
    "                                      \"The Rise and Fall of a Midwest Princess\",\n",
    "                                      \"THE TORTURED POETS DEPARTMENT\"])) &\n",
    "            (df['country'] == 'US') &\n",
    "            (df['snapshot_date'].dt.year == 2024)].copy()\n",
    "\n",
    "aoty_data.loc[:, 'main_artist'] = aoty_data['artists'].apply(lambda x: x.split(',')[0])"
   ]
  },
  {
   "cell_type": "code",
   "execution_count": 55,
   "metadata": {},
   "outputs": [
    {
     "data": {
      "text/plain": [
       "['Beyoncé',\n",
       " 'Billie Eilish',\n",
       " 'Chappell Roan',\n",
       " 'Charli xcx',\n",
       " 'Sabrina Carpenter',\n",
       " 'Taylor Swift']"
      ]
     },
     "execution_count": 55,
     "metadata": {},
     "output_type": "execute_result"
    }
   ],
   "source": [
    "# Listagem dos artistas\n",
    "\n",
    "aoty_artists = sorted(list(set(aoty_data['main_artist'])))\n",
    "aoty_artists"
   ]
  },
  {
   "cell_type": "code",
   "execution_count": 57,
   "metadata": {},
   "outputs": [
    {
     "name": "stdout",
     "output_type": "stream",
     "text": [
      "Número de aparições no Top50 em 2024 (última atualização: 2024-11-27)\n",
      "\n",
      "Beyoncé: 136\n",
      "Billie Eilish: 593\n",
      "Chappell Roan: 570\n",
      "Charli xcx: 92\n",
      "Sabrina Carpenter: 567\n",
      "Taylor Swift: 537\n"
     ]
    }
   ],
   "source": [
    "print(f'Número de aparições no Top50 em 2024 (última atualização: {aoty_data['snapshot_date'].max().date()})\\n')\n",
    "\n",
    "for artist in aoty_artists:\n",
    "    count = aoty_data[aoty_data['main_artist'] == artist].shape[0]\n",
    "    print(f'{artist}: {count}')"
   ]
  }
 ],
 "metadata": {
  "kernelspec": {
   "display_name": ".venv",
   "language": "python",
   "name": "python3"
  },
  "language_info": {
   "codemirror_mode": {
    "name": "ipython",
    "version": 3
   },
   "file_extension": ".py",
   "mimetype": "text/x-python",
   "name": "python",
   "nbconvert_exporter": "python",
   "pygments_lexer": "ipython3",
   "version": "3.12.7"
  }
 },
 "nbformat": 4,
 "nbformat_minor": 2
}
