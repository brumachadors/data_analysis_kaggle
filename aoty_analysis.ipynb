{
 "cells": [
  {
   "cell_type": "code",
   "execution_count": 11,
   "metadata": {},
   "outputs": [],
   "source": [
    "import pandas as pd\n",
    "import zipfile\n",
    "import kaggle\n",
    "import os"
   ]
  },
  {
   "cell_type": "code",
   "execution_count": 12,
   "metadata": {},
   "outputs": [
    {
     "name": "stdout",
     "output_type": "stream",
     "text": [
      "Dataset URL: https://www.kaggle.com/datasets/asaniczka/top-spotify-songs-in-73-countries-daily-updated\n",
      "Download: datasets\\top-spotify-songs-in-73-countries-daily-updated.zip\n",
      "File Name                                             Modified             Size\n",
      "universal_top_spotify_songs.csv                2024-11-27 10:10:44    346764771\n",
      "Filename: universal_top_spotify_songs.csv\n"
     ]
    }
   ],
   "source": [
    "os.makedirs(\"datasets\", exist_ok=True)\n",
    "\n",
    "dataset_name = \"asaniczka/top-spotify-songs-in-73-countries-daily-updated\"\n",
    "\n",
    "kaggle.api.dataset_download_files(dataset_name, path=\"datasets\", unzip=False)\n",
    "\n",
    "zip_file_path = os.path.join(\"datasets\", dataset_name.split('/')[-1] + \".zip\")\n",
    "print(f\"Download: {zip_file_path}\")\n",
    "\n",
    "with zipfile.ZipFile(zip_file_path, 'r') as zip_ref:\n",
    "    zip_ref.printdir()\n",
    "\n",
    "    for file_name in zip_ref.namelist():\n",
    "        if file_name.endswith('.csv'):\n",
    "            print(f\"Filename: {file_name}\")            \n",
    "            with zip_ref.open(file_name) as file:\n",
    "                df = pd.read_csv(file)"
   ]
  },
  {
   "cell_type": "code",
   "execution_count": 13,
   "metadata": {},
   "outputs": [
    {
     "data": {
      "text/plain": [
       "Index(['spotify_id', 'name', 'artists', 'daily_rank', 'daily_movement',\n",
       "       'weekly_movement', 'country', 'snapshot_date', 'popularity',\n",
       "       'is_explicit', 'duration_ms', 'album_name', 'album_release_date',\n",
       "       'danceability', 'energy', 'key', 'loudness', 'mode', 'speechiness',\n",
       "       'acousticness', 'instrumentalness', 'liveness', 'valence', 'tempo',\n",
       "       'time_signature'],\n",
       "      dtype='object')"
      ]
     },
     "execution_count": 13,
     "metadata": {},
     "output_type": "execute_result"
    }
   ],
   "source": [
    "df.columns"
   ]
  },
  {
   "cell_type": "code",
   "execution_count": 14,
   "metadata": {},
   "outputs": [],
   "source": [
    "df['snapshot_date'] = pd.to_datetime(df['snapshot_date'], errors='coerce')"
   ]
  },
  {
   "cell_type": "code",
   "execution_count": 15,
   "metadata": {},
   "outputs": [
    {
     "name": "stderr",
     "output_type": "stream",
     "text": [
      "C:\\Users\\Bruna\\AppData\\Local\\Temp\\ipykernel_1008\\1381549676.py:12: SettingWithCopyWarning: \n",
      "A value is trying to be set on a copy of a slice from a DataFrame.\n",
      "Try using .loc[row_indexer,col_indexer] = value instead\n",
      "\n",
      "See the caveats in the documentation: https://pandas.pydata.org/pandas-docs/stable/user_guide/indexing.html#returning-a-view-versus-a-copy\n",
      "  aoty_data['main_artist'] = aoty_data['artists'].apply(lambda x: x.split(',')[0])\n"
     ]
    }
   ],
   "source": [
    "aoty_data = df[(df['album_name'].isin([\"New Blue Sun\", \n",
    "                                      \"COWBOY CARTER\", \n",
    "                                      \"Short n' Sweet\", \n",
    "                                      \"BRAT\", \n",
    "                                      \"Djesse Vol.4\", \n",
    "                                      \"HIT ME HARD AND SOFT\", \n",
    "                                      \"The Rise and Fall of a Midwest Princess\",\n",
    "                                      \"THE TORTURED POETS DEPARTMENT\"])) &\n",
    "                                      (df['country'] == 'US') &\n",
    "                                      (df['snapshot_date'].dt.year == 2024)]\n",
    "\n",
    "aoty_data['main_artist'] = aoty_data['artists'].apply(lambda x: x.split(',')[0])"
   ]
  },
  {
   "cell_type": "code",
   "execution_count": 16,
   "metadata": {},
   "outputs": [
    {
     "data": {
      "text/plain": [
       "['Beyoncé',\n",
       " 'Charli xcx',\n",
       " 'Billie Eilish',\n",
       " 'Sabrina Carpenter',\n",
       " 'Chappell Roan',\n",
       " 'Taylor Swift']"
      ]
     },
     "execution_count": 16,
     "metadata": {},
     "output_type": "execute_result"
    }
   ],
   "source": [
    "list(set(aoty_data['main_artist']))"
   ]
  },
  {
   "cell_type": "code",
   "execution_count": 17,
   "metadata": {},
   "outputs": [
    {
     "name": "stdout",
     "output_type": "stream",
     "text": [
      "Número de músicas no Top50 em 2024\n",
      "\n",
      "Beyoncé: 136\n",
      "Sabrina Carpenter: 567\n",
      "Charli xcx: 92\n",
      "Billie Eilish: 593\n",
      "Chappell Roan: 570\n",
      "Taylor Swift: 537\n"
     ]
    }
   ],
   "source": [
    "print('Número de músicas no Top50 em 2024\\n')\n",
    "print('Beyoncé:', aoty_data[aoty_data['main_artist'] == \"Beyoncé\"].shape[0])\n",
    "print('Sabrina Carpenter:', aoty_data[aoty_data['main_artist'] == \"Sabrina Carpenter\"].shape[0])\n",
    "print('Charli xcx:', aoty_data[aoty_data['main_artist'] == \"Charli xcx\"].shape[0])\n",
    "print('Billie Eilish:', aoty_data[aoty_data['main_artist'] == \"Billie Eilish\"].shape[0])\n",
    "print('Chappell Roan:', aoty_data[aoty_data['main_artist'] == \"Chappell Roan\"].shape[0])\n",
    "print('Taylor Swift:', aoty_data[aoty_data['main_artist'] == \"Taylor Swift\"].shape[0])"
   ]
  }
 ],
 "metadata": {
  "kernelspec": {
   "display_name": ".venv",
   "language": "python",
   "name": "python3"
  },
  "language_info": {
   "codemirror_mode": {
    "name": "ipython",
    "version": 3
   },
   "file_extension": ".py",
   "mimetype": "text/x-python",
   "name": "python",
   "nbconvert_exporter": "python",
   "pygments_lexer": "ipython3",
   "version": "3.12.7"
  }
 },
 "nbformat": 4,
 "nbformat_minor": 2
}
